{
 "cells": [
  {
   "cell_type": "code",
   "execution_count": 1,
   "id": "456cca2d",
   "metadata": {},
   "outputs": [
    {
     "name": "stdout",
     "output_type": "stream",
     "text": [
      "The pair is : ( -2 ,  8 )\n",
      "The pair is : ( 2 ,  4 )\n"
     ]
    }
   ],
   "source": [
    "\n",
    "def pairedElements(arr, sum):\n",
    "\n",
    "\tlow = 0;\n",
    "\thigh = len(arr) - 1;\n",
    "\n",
    "\twhile (low < high):\n",
    "\t\tif (arr[low] +\n",
    "\t\t\tarr[high] == sum):\n",
    "\t\t\tprint(\"The pair is : (\", arr[low],\n",
    "\t\t\t\t\", \", arr[high], \")\");\n",
    "\t\tif (arr[low] + arr[high] > sum):\n",
    "\t\t\thigh -= 1;\n",
    "\t\telse:\n",
    "\t\t\tlow += 1;\n",
    "\n",
    "\n",
    "if __name__ == '__main__':\n",
    "\n",
    "\tarr = [2, 3, 4, -2,\n",
    "\t\t6, 8, 9, 11];\n",
    "\tarr.sort();\n",
    "\tpairedElements(arr, 6);\n",
    "\n",
    "\n"
   ]
  },
  {
   "cell_type": "code",
   "execution_count": null,
   "id": "8b0616ad",
   "metadata": {},
   "outputs": [],
   "source": []
  }
 ],
 "metadata": {
  "kernelspec": {
   "display_name": "Python 3 (ipykernel)",
   "language": "python",
   "name": "python3"
  },
  "language_info": {
   "codemirror_mode": {
    "name": "ipython",
    "version": 3
   },
   "file_extension": ".py",
   "mimetype": "text/x-python",
   "name": "python",
   "nbconvert_exporter": "python",
   "pygments_lexer": "ipython3",
   "version": "3.10.0"
  }
 },
 "nbformat": 4,
 "nbformat_minor": 5
}
